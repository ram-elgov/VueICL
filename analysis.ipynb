{
 "cells": [
  {
   "cell_type": "code",
   "execution_count": null,
   "metadata": {},
   "outputs": [],
   "source": [
    "import pandas as pd\n",
    "\n",
    "results_path = \"results/output_7.csv\"\n",
    "questions_path = \"results/q_7.csv\"\n",
    "\n",
    "def read_results_and_questions(results_path, questions_path):\n",
    "    # Read the file into a DataFrame\n",
    "    with open(results_path, \"r\") as file:\n",
    "        lines = file.readlines()\n",
    "        # split after the first comma\n",
    "        splitted = [lines.split(',', 1) for lines in lines]\n",
    "\n",
    "    df = pd.DataFrame(splitted)\n",
    "\n",
    "    # Add column names\n",
    "    df.columns = ['Id', 'Answer']\n",
    "\n",
    "\n",
    "    # # Remove the string \"Answer: \" from the answer column\n",
    "    df['Answer'] = df['Answer'].str.replace('Answer: ', '')\n",
    "    df['Answer'] = df['Answer'].str.replace('\\n', '')\n",
    "\n",
    "    # Parse the first letter of the answer\n",
    "    df['First_letter'] = df['Answer'].str.extract(r'(\\w)')\n",
    "\n",
    "    # Lowercase the first letter\n",
    "    df['First_letter'] = df['First_letter'].str.lower()\n",
    "\n",
    "    print(df)\n",
    "\n",
    "    # Load the Questions csv\n",
    "    questions = pd.read_csv(questions_path)\n",
    "\n",
    "    print(questions.head())\n",
    "\n",
    "    df['Id'] = df['Id'].astype(str)\n",
    "    questions['question_id'] = questions['question_id'].astype(str)\n",
    "\n",
    "    # Join the df and questions using the Id column and question_id column.\n",
    "    joined = pd.merge(df, questions, left_on='Id', right_on='question_id')\n",
    "\n",
    "    # Check if the first letter of the answer is the same as the correct answer\n",
    "    joined['Correct'] = joined['First_letter'] == joined['correct_answer']\n",
    "\n",
    "    # Count the number of correct answers\n",
    "    correct = joined['Correct'].sum()\n",
    "\n",
    "    print(f\"Number of correct answers: {correct}\")\n",
    "    print(f\"Total number of answers: {len(joined)}\")\n",
    "    print(f\"Number of videos: {len(joined['video_name'].unique())}\")\n",
    "\n",
    "    return joined"
   ]
  },
  {
   "cell_type": "code",
   "execution_count": null,
   "metadata": {},
   "outputs": [],
   "source": [
    "joined = read_results_and_questions(results_path, questions_path)"
   ]
  },
  {
   "cell_type": "code",
   "execution_count": null,
   "metadata": {},
   "outputs": [],
   "source": [
    "# Calculates the number of correct answers per video.\n",
    "# Show in addition the number of questions per video.\n",
    "\n",
    "df = joined.groupby('video_name')['Correct']\n",
    "\n",
    "df_2 = pd.DataFrame(df.sum(), columns=['Correct'])\n",
    "df_2['Total'] = df.count()\n",
    "df_2['Perfect_Score'] = df.count() == df.sum()\n",
    "\n",
    "print(df_2)\n"
   ]
  },
  {
   "cell_type": "code",
   "execution_count": null,
   "metadata": {},
   "outputs": [],
   "source": [
    "# Count the perfect scores\n",
    "print(f\"Number of perfect score videos is: {df_2['Perfect_Score'].sum()}\")"
   ]
  }
 ],
 "metadata": {
  "language_info": {
   "name": "python"
  }
 },
 "nbformat": 4,
 "nbformat_minor": 2
}
